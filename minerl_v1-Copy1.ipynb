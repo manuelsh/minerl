{
 "cells": [
  {
   "cell_type": "code",
   "execution_count": 1,
   "metadata": {},
   "outputs": [],
   "source": [
    "# v0 tries DQN\n",
    "# v1 tries individual actions inatead of doing combinatorials"
   ]
  },
  {
   "cell_type": "code",
   "execution_count": 2,
   "metadata": {},
   "outputs": [
    {
     "name": "stdout",
     "output_type": "stream",
     "text": [
      "Requirement already up-to-date: minerl in /home/user/.local/lib/python3.7/site-packages (0.1.18)\n",
      "Requirement already satisfied, skipping upgrade: requests>=2.20.0 in /home/user/.local/lib/python3.7/site-packages (from minerl) (2.22.0)\n",
      "Requirement already satisfied, skipping upgrade: psutil>=5.6.2 in /home/user/.local/lib/python3.7/site-packages (from minerl) (5.6.3)\n",
      "Requirement already satisfied, skipping upgrade: lxml>=4.3.3 in /home/user/.local/lib/python3.7/site-packages (from minerl) (4.3.4)\n",
      "Requirement already satisfied, skipping upgrade: Pyro4>=4.76 in /home/user/.local/lib/python3.7/site-packages (from minerl) (4.76)\n",
      "Requirement already satisfied, skipping upgrade: gym>=0.12.1 in /home/user/.local/lib/python3.7/site-packages (from minerl) (0.13.0)\n",
      "Requirement already satisfied, skipping upgrade: tqdm>=4.31.1 in /home/user/.local/lib/python3.7/site-packages (from minerl) (4.32.2)\n",
      "Requirement already satisfied, skipping upgrade: ipython>=7.5.0 in /home/user/.local/lib/python3.7/site-packages (from minerl) (7.6.1)\n",
      "Requirement already satisfied, skipping upgrade: setuptools>=40.6.2 in /home/user/miniconda/envs/py37/lib/python3.7/site-packages (from minerl) (41.0.1)\n",
      "Requirement already satisfied, skipping upgrade: opencv-python>=4.1.0.25 in /home/user/.local/lib/python3.7/site-packages (from minerl) (4.1.0.25)\n",
      "Requirement already satisfied, skipping upgrade: typing>=3.6.6 in /home/user/.local/lib/python3.7/site-packages (from minerl) (3.7.4)\n",
      "Requirement already satisfied, skipping upgrade: pySmartDL>=1.3.1 in /home/user/.local/lib/python3.7/site-packages (from minerl) (1.3.1)\n",
      "Requirement already satisfied, skipping upgrade: numpy>=1.16.2 in /home/user/.local/lib/python3.7/site-packages (from minerl) (1.16.4)\n",
      "Requirement already satisfied, skipping upgrade: idna<2.9,>=2.5 in /home/user/.local/lib/python3.7/site-packages (from requests>=2.20.0->minerl) (2.8)\n",
      "Requirement already satisfied, skipping upgrade: chardet<3.1.0,>=3.0.2 in /home/user/.local/lib/python3.7/site-packages (from requests>=2.20.0->minerl) (3.0.4)\n",
      "Requirement already satisfied, skipping upgrade: urllib3!=1.25.0,!=1.25.1,<1.26,>=1.21.1 in /home/user/.local/lib/python3.7/site-packages (from requests>=2.20.0->minerl) (1.25.3)\n",
      "Requirement already satisfied, skipping upgrade: certifi>=2017.4.17 in /home/user/miniconda/envs/py37/lib/python3.7/site-packages (from requests>=2.20.0->minerl) (2019.6.16)\n",
      "Requirement already satisfied, skipping upgrade: serpent>=1.27 in /home/user/.local/lib/python3.7/site-packages (from Pyro4>=4.76->minerl) (1.28)\n",
      "Requirement already satisfied, skipping upgrade: cloudpickle~=1.2.0 in /home/user/.local/lib/python3.7/site-packages (from gym>=0.12.1->minerl) (1.2.1)\n",
      "Requirement already satisfied, skipping upgrade: pyglet>=1.2.0 in /home/user/.local/lib/python3.7/site-packages (from gym>=0.12.1->minerl) (1.4.0)\n",
      "Requirement already satisfied, skipping upgrade: six in /home/user/.local/lib/python3.7/site-packages (from gym>=0.12.1->minerl) (1.12.0)\n",
      "Requirement already satisfied, skipping upgrade: scipy in /home/user/.local/lib/python3.7/site-packages (from gym>=0.12.1->minerl) (1.3.0)\n",
      "Requirement already satisfied, skipping upgrade: pygments in /home/user/.local/lib/python3.7/site-packages (from ipython>=7.5.0->minerl) (2.4.2)\n",
      "Requirement already satisfied, skipping upgrade: prompt-toolkit<2.1.0,>=2.0.0 in /home/user/.local/lib/python3.7/site-packages (from ipython>=7.5.0->minerl) (2.0.9)\n",
      "Requirement already satisfied, skipping upgrade: pickleshare in /home/user/.local/lib/python3.7/site-packages (from ipython>=7.5.0->minerl) (0.7.5)\n",
      "Requirement already satisfied, skipping upgrade: jedi>=0.10 in /home/user/.local/lib/python3.7/site-packages (from ipython>=7.5.0->minerl) (0.14.0)\n",
      "Requirement already satisfied, skipping upgrade: pexpect; sys_platform != \"win32\" in /home/user/.local/lib/python3.7/site-packages (from ipython>=7.5.0->minerl) (4.7.0)\n",
      "Requirement already satisfied, skipping upgrade: traitlets>=4.2 in /home/user/.local/lib/python3.7/site-packages (from ipython>=7.5.0->minerl) (4.3.2)\n",
      "Requirement already satisfied, skipping upgrade: backcall in /home/user/.local/lib/python3.7/site-packages (from ipython>=7.5.0->minerl) (0.1.0)\n",
      "Requirement already satisfied, skipping upgrade: decorator in /home/user/.local/lib/python3.7/site-packages (from ipython>=7.5.0->minerl) (4.4.0)\n",
      "Requirement already satisfied, skipping upgrade: future in /home/user/.local/lib/python3.7/site-packages (from pyglet>=1.2.0->gym>=0.12.1->minerl) (0.17.1)\n",
      "Requirement already satisfied, skipping upgrade: wcwidth in /home/user/.local/lib/python3.7/site-packages (from prompt-toolkit<2.1.0,>=2.0.0->ipython>=7.5.0->minerl) (0.1.7)\n",
      "Requirement already satisfied, skipping upgrade: parso>=0.3.0 in /home/user/.local/lib/python3.7/site-packages (from jedi>=0.10->ipython>=7.5.0->minerl) (0.5.0)\n",
      "Requirement already satisfied, skipping upgrade: ptyprocess>=0.5 in /home/user/.local/lib/python3.7/site-packages (from pexpect; sys_platform != \"win32\"->ipython>=7.5.0->minerl) (0.6.0)\n",
      "Requirement already satisfied, skipping upgrade: ipython-genutils in /home/user/.local/lib/python3.7/site-packages (from traitlets>=4.2->ipython>=7.5.0->minerl) (0.2.0)\n"
     ]
    }
   ],
   "source": [
    "!pip install --upgrade minerl"
   ]
  },
  {
   "cell_type": "code",
   "execution_count": 123,
   "metadata": {
    "colab": {},
    "colab_type": "code",
    "id": "wvllIixz8EAo"
   },
   "outputs": [],
   "source": [
    "import gym\n",
    "import torch\n",
    "import torch.nn as nn\n",
    "import torch.nn.functional as F\n",
    "from matplotlib import pyplot as plt\n",
    "from IPython.display import clear_output\n",
    "from IPython import display\n",
    "import minerl\n",
    "import pickle\n",
    "from tqdm import tqdm\n",
    "\n",
    "import numpy as np\n",
    "from collections import deque, OrderedDict\n",
    "import double_dqn_agent\n",
    "import importlib\n",
    "importlib.reload(double_dqn_agent)\n",
    "import math\n",
    "import types\n",
    "\n",
    "%matplotlib inline"
   ]
  },
  {
   "cell_type": "code",
   "execution_count": 4,
   "metadata": {
    "colab": {},
    "colab_type": "code",
    "id": "-wlgij7v8EAp"
   },
   "outputs": [
    {
     "name": "stdout",
     "output_type": "stream",
     "text": [
      "CPU times: user 160 ms, sys: 312 ms, total: 472 ms\n",
      "Wall time: 1min 43s\n"
     ]
    }
   ],
   "source": [
    "environment_name = 'MineRLNavigateDense-v0'\n",
    "%time env = gym.make(environment_name)"
   ]
  },
  {
   "cell_type": "code",
   "execution_count": 79,
   "metadata": {
    "colab": {},
    "colab_type": "code",
    "id": "eALEFcDb8EAr"
   },
   "outputs": [],
   "source": [
    "SEED = 924\n",
    "NORM_FACTOR = 255\n",
    "\n",
    "def seed_everything(seed=SEED): \n",
    "    random.seed(seed)\n",
    "    os.environ['PYTHONHASHSEED'] = str(seed)\n",
    "    np.random.seed(seed)\n",
    "    torch.manual_seed(seed)\n",
    "    torch.cuda.manual_seed(seed)\n",
    "    torch.backends.cudnn.deterministic = True"
   ]
  },
  {
   "cell_type": "code",
   "execution_count": 80,
   "metadata": {
    "colab": {},
    "colab_type": "code",
    "id": "wimb_9fQ8EAt",
    "outputId": "70251ded-a6bd-4a91-d11b-a088f300f5f4"
   },
   "outputs": [
    {
     "name": "stdout",
     "output_type": "stream",
     "text": [
      "10\n",
      "Dict(attack:Discrete(2), back:Discrete(2), camera:Box(2,), forward:Discrete(2), jump:Discrete(2), left:Discrete(2), place:Enum(none,dirt), right:Discrete(2), sneak:Discrete(2), sprint:Discrete(2))\n"
     ]
    }
   ],
   "source": [
    "ACTIONS_DICT = OrderedDict({#'attack', \n",
    "           #'back', \n",
    "           'camera_left' : {'camera': [ 0, -20]},\n",
    "           'camera_right' : {'camera': [ 0, 20]},\n",
    "           'camera_left_little' : {'camera': [ 0, -5]}, \n",
    "           'camera_right_little' : {'camera': [ 0, 5]},\n",
    "           'forward': {'forward': 1}, \n",
    "           #'jump', \n",
    "           'jump+forward' : {'forward': 1, 'jump':1},\n",
    "           'left' : {'left':1},\n",
    "           #'place',\n",
    "           'right' : {'right':1}, \n",
    "           'sneak+forward' : {'sneak': 1, 'jump':1},\n",
    "           'wait': {}})\n",
    "           #'sprint'\n",
    "    \n",
    "\n",
    "actions_dim = len(ACTIONS_DICT) # we interpret camera yaw as discrete\n",
    "print(actions_dim)\n",
    "print(env.action_space)"
   ]
  },
  {
   "cell_type": "code",
   "execution_count": 133,
   "metadata": {
    "colab": {},
    "colab_type": "code",
    "id": "Y5nmOCBQ8EAv",
    "outputId": "336d835d-816c-4ba5-e4b7-b5e7f1e7672a",
    "scrolled": true
   },
   "outputs": [
    {
     "name": "stdout",
     "output_type": "stream",
     "text": [
      "Dict(compassAngle:Box(), inventory:Dict(dirt:Box()), pov:Box(64, 64, 3))\n"
     ]
    }
   ],
   "source": [
    "state_dim = 1+64*64*3 # we ignore inventory\n",
    "non_visual_state_dim = 1\n",
    "print(env.observation_space)"
   ]
  },
  {
   "cell_type": "code",
   "execution_count": 82,
   "metadata": {},
   "outputs": [],
   "source": [
    "actions_items = list(ACTIONS_DICT.items()) # makes code slightly faster\n",
    "def convert_action_3(action_number):\n",
    "    return actions_items[action_number][1]"
   ]
  },
  {
   "cell_type": "code",
   "execution_count": 130,
   "metadata": {},
   "outputs": [],
   "source": [
    "class LayerRotation():\n",
    "    def __init__(self, init_parameters):\n",
    "        assert isinstance(init_parameters, types.GeneratorType)\n",
    "        self.flat_initial_params = self.get_list_flat_params(init_parameters)\n",
    "        self.torch_pi = torch.tensor(math.pi)\n",
    "        \n",
    "    def get_layer_rotation_list(self, parameters):\n",
    "        flat_params = self.get_list_flat_params(parameters)\n",
    "        return [self.get_layer_rotation(p,q) for p, q in zip(self.flat_initial_params, flat_params)]     \n",
    "                \n",
    "    def get_list_flat_params(self, parameters):\n",
    "        return [p.view(-1) for p in list(parameters)]\n",
    "    \n",
    "    def get_layer_rotation(self, x1, x2):\n",
    "        return float(torch.acos(torch.cosine_similarity(x1, x2, dim=0))*2/self.torch_pi)\n",
    "    \n",
    "layer_rotation = LayerRotation(agent.qnetwork_local.parameters())"
   ]
  },
  {
   "cell_type": "code",
   "execution_count": 131,
   "metadata": {},
   "outputs": [],
   "source": [
    "# Restart the agent\n",
    "agent = double_dqn_agent.Agent(non_visual_state_dim, actions_dim, SEED)\n",
    "scores = []                        # list containing scores from each episode\n",
    "scores_window = deque(maxlen=100)  # last 100 scores\n",
    "iterations = 0\n",
    "epsilons = []\n",
    "layer_rotations = []"
   ]
  },
  {
   "cell_type": "code",
   "execution_count": 132,
   "metadata": {},
   "outputs": [
    {
     "name": "stderr",
     "output_type": "stream",
     "text": [
      "\r",
      "  0%|          | 0/2000 [00:00<?, ?it/s]"
     ]
    },
    {
     "ename": "KeyboardInterrupt",
     "evalue": "",
     "output_type": "error",
     "traceback": [
      "\u001b[0;31m---------------------------------------------------------------------------\u001b[0m",
      "\u001b[0;31mKeyboardInterrupt\u001b[0m                         Traceback (most recent call last)",
      "\u001b[0;32m<ipython-input-132-73e9a9e7dafe>\u001b[0m in \u001b[0;36m<module>\u001b[0;34m\u001b[0m\n\u001b[1;32m      8\u001b[0m \u001b[0meps\u001b[0m \u001b[0;34m=\u001b[0m \u001b[0meps_start\u001b[0m                    \u001b[0;31m# initialize epsilon\u001b[0m\u001b[0;34m\u001b[0m\u001b[0;34m\u001b[0m\u001b[0m\n\u001b[1;32m      9\u001b[0m \u001b[0;32mfor\u001b[0m \u001b[0mi_episode\u001b[0m \u001b[0;32min\u001b[0m \u001b[0mtqdm\u001b[0m\u001b[0;34m(\u001b[0m\u001b[0mrange\u001b[0m\u001b[0;34m(\u001b[0m\u001b[0;36m1\u001b[0m\u001b[0;34m,\u001b[0m \u001b[0mn_episodes\u001b[0m\u001b[0;34m+\u001b[0m\u001b[0;36m1\u001b[0m\u001b[0;34m)\u001b[0m\u001b[0;34m)\u001b[0m\u001b[0;34m:\u001b[0m\u001b[0;34m\u001b[0m\u001b[0;34m\u001b[0m\u001b[0m\n\u001b[0;32m---> 10\u001b[0;31m     \u001b[0mstate\u001b[0m\u001b[0;34m,\u001b[0m \u001b[0m_\u001b[0m \u001b[0;34m=\u001b[0m \u001b[0menv\u001b[0m\u001b[0;34m.\u001b[0m\u001b[0mreset\u001b[0m\u001b[0;34m(\u001b[0m\u001b[0;34m)\u001b[0m\u001b[0;34m\u001b[0m\u001b[0;34m\u001b[0m\u001b[0m\n\u001b[0m\u001b[1;32m     11\u001b[0m     \u001b[0mscore\u001b[0m \u001b[0;34m=\u001b[0m \u001b[0;36m0\u001b[0m\u001b[0;34m\u001b[0m\u001b[0;34m\u001b[0m\u001b[0m\n\u001b[1;32m     12\u001b[0m     \u001b[0mlayer_rotations\u001b[0m\u001b[0;34m.\u001b[0m\u001b[0mappend\u001b[0m\u001b[0;34m(\u001b[0m\u001b[0mlayer_rotation\u001b[0m\u001b[0;34m.\u001b[0m\u001b[0mget_layer_rotation_list\u001b[0m\u001b[0;34m(\u001b[0m\u001b[0magent\u001b[0m\u001b[0;34m.\u001b[0m\u001b[0mqnetwork_local\u001b[0m\u001b[0;34m.\u001b[0m\u001b[0mparameters\u001b[0m\u001b[0;34m(\u001b[0m\u001b[0;34m)\u001b[0m\u001b[0;34m)\u001b[0m\u001b[0;34m)\u001b[0m\u001b[0;34m\u001b[0m\u001b[0;34m\u001b[0m\u001b[0m\n",
      "\u001b[0;32m~/.local/lib/python3.7/site-packages/gym/wrappers/time_limit.py\u001b[0m in \u001b[0;36mreset\u001b[0;34m(self, **kwargs)\u001b[0m\n\u001b[1;32m     22\u001b[0m     \u001b[0;32mdef\u001b[0m \u001b[0mreset\u001b[0m\u001b[0;34m(\u001b[0m\u001b[0mself\u001b[0m\u001b[0;34m,\u001b[0m \u001b[0;34m**\u001b[0m\u001b[0mkwargs\u001b[0m\u001b[0;34m)\u001b[0m\u001b[0;34m:\u001b[0m\u001b[0;34m\u001b[0m\u001b[0;34m\u001b[0m\u001b[0m\n\u001b[1;32m     23\u001b[0m         \u001b[0mself\u001b[0m\u001b[0;34m.\u001b[0m\u001b[0m_elapsed_steps\u001b[0m \u001b[0;34m=\u001b[0m \u001b[0;36m0\u001b[0m\u001b[0;34m\u001b[0m\u001b[0;34m\u001b[0m\u001b[0m\n\u001b[0;32m---> 24\u001b[0;31m         \u001b[0;32mreturn\u001b[0m \u001b[0mself\u001b[0m\u001b[0;34m.\u001b[0m\u001b[0menv\u001b[0m\u001b[0;34m.\u001b[0m\u001b[0mreset\u001b[0m\u001b[0;34m(\u001b[0m\u001b[0;34m**\u001b[0m\u001b[0mkwargs\u001b[0m\u001b[0;34m)\u001b[0m\u001b[0;34m\u001b[0m\u001b[0;34m\u001b[0m\u001b[0m\n\u001b[0m",
      "\u001b[0;32m~/.local/lib/python3.7/site-packages/minerl/env/core.py\u001b[0m in \u001b[0;36mreset\u001b[0;34m(self)\u001b[0m\n\u001b[1;32m    408\u001b[0m                 \u001b[0mtime\u001b[0m\u001b[0;34m.\u001b[0m\u001b[0msleep\u001b[0m\u001b[0;34m(\u001b[0m\u001b[0;36m0.1\u001b[0m\u001b[0;34m)\u001b[0m\u001b[0;34m\u001b[0m\u001b[0;34m\u001b[0m\u001b[0m\n\u001b[1;32m    409\u001b[0m \u001b[0;34m\u001b[0m\u001b[0m\n\u001b[0;32m--> 410\u001b[0;31m         \u001b[0;32mreturn\u001b[0m \u001b[0mself\u001b[0m\u001b[0;34m.\u001b[0m\u001b[0m_start_up\u001b[0m\u001b[0;34m(\u001b[0m\u001b[0;34m)\u001b[0m\u001b[0;34m\u001b[0m\u001b[0;34m\u001b[0m\u001b[0m\n\u001b[0m\u001b[1;32m    411\u001b[0m \u001b[0;34m\u001b[0m\u001b[0m\n\u001b[1;32m    412\u001b[0m     \u001b[0;34m@\u001b[0m\u001b[0mretry\u001b[0m\u001b[0;34m\u001b[0m\u001b[0;34m\u001b[0m\u001b[0m\n",
      "\u001b[0;32m~/.local/lib/python3.7/site-packages/minerl/env/comms.py\u001b[0m in \u001b[0;36mwrapper\u001b[0;34m(*args, **kwargs)\u001b[0m\n\u001b[1;32m     37\u001b[0m         \u001b[0;32mfor\u001b[0m \u001b[0mi\u001b[0m \u001b[0;32min\u001b[0m \u001b[0mrange\u001b[0m\u001b[0;34m(\u001b[0m\u001b[0mretry_count\u001b[0m\u001b[0;34m)\u001b[0m\u001b[0;34m:\u001b[0m\u001b[0;34m\u001b[0m\u001b[0;34m\u001b[0m\u001b[0m\n\u001b[1;32m     38\u001b[0m             \u001b[0;32mtry\u001b[0m\u001b[0;34m:\u001b[0m\u001b[0;34m\u001b[0m\u001b[0;34m\u001b[0m\u001b[0m\n\u001b[0;32m---> 39\u001b[0;31m                 \u001b[0;32mreturn\u001b[0m \u001b[0mfunc\u001b[0m\u001b[0;34m(\u001b[0m\u001b[0;34m*\u001b[0m\u001b[0margs\u001b[0m\u001b[0;34m,\u001b[0m \u001b[0;34m**\u001b[0m\u001b[0mkwargs\u001b[0m\u001b[0;34m)\u001b[0m\u001b[0;34m\u001b[0m\u001b[0;34m\u001b[0m\u001b[0m\n\u001b[0m\u001b[1;32m     40\u001b[0m             \u001b[0;32mexcept\u001b[0m \u001b[0mPyro4\u001b[0m\u001b[0;34m.\u001b[0m\u001b[0merrors\u001b[0m\u001b[0;34m.\u001b[0m\u001b[0mPyroError\u001b[0m \u001b[0;32mas\u001b[0m \u001b[0me\u001b[0m\u001b[0;34m:\u001b[0m\u001b[0;34m\u001b[0m\u001b[0;34m\u001b[0m\u001b[0m\n\u001b[1;32m     41\u001b[0m                 \u001b[0mlogger\u001b[0m\u001b[0;34m.\u001b[0m\u001b[0merror\u001b[0m\u001b[0;34m(\u001b[0m\u001b[0;34m\"An error occurred contacting the instance manager. Is it started!?\"\u001b[0m\u001b[0;34m)\u001b[0m\u001b[0;34m\u001b[0m\u001b[0;34m\u001b[0m\u001b[0m\n",
      "\u001b[0;32m~/.local/lib/python3.7/site-packages/minerl/env/core.py\u001b[0m in \u001b[0;36m_start_up\u001b[0;34m(self)\u001b[0m\n\u001b[1;32m    429\u001b[0m \u001b[0;34m\u001b[0m\u001b[0m\n\u001b[1;32m    430\u001b[0m             \u001b[0mself\u001b[0m\u001b[0;34m.\u001b[0m\u001b[0mdone\u001b[0m \u001b[0;34m=\u001b[0m \u001b[0;32mFalse\u001b[0m\u001b[0;34m\u001b[0m\u001b[0;34m\u001b[0m\u001b[0m\n\u001b[0;32m--> 431\u001b[0;31m             \u001b[0;32mreturn\u001b[0m \u001b[0mself\u001b[0m\u001b[0;34m.\u001b[0m\u001b[0m_peek_obs\u001b[0m\u001b[0;34m(\u001b[0m\u001b[0;34m)\u001b[0m\u001b[0;34m\u001b[0m\u001b[0;34m\u001b[0m\u001b[0m\n\u001b[0m\u001b[1;32m    432\u001b[0m         \u001b[0;32mexcept\u001b[0m \u001b[0;34m(\u001b[0m\u001b[0msocket\u001b[0m\u001b[0;34m.\u001b[0m\u001b[0mtimeout\u001b[0m\u001b[0;34m,\u001b[0m \u001b[0msocket\u001b[0m\u001b[0;34m.\u001b[0m\u001b[0merror\u001b[0m\u001b[0;34m)\u001b[0m \u001b[0;32mas\u001b[0m \u001b[0me\u001b[0m\u001b[0;34m:\u001b[0m\u001b[0;34m\u001b[0m\u001b[0;34m\u001b[0m\u001b[0m\n\u001b[1;32m    433\u001b[0m             \u001b[0mlogger\u001b[0m\u001b[0;34m.\u001b[0m\u001b[0merror\u001b[0m\u001b[0;34m(\u001b[0m\u001b[0;34m\"Failed to reset (socket error), trying again!\"\u001b[0m\u001b[0;34m)\u001b[0m\u001b[0;34m\u001b[0m\u001b[0;34m\u001b[0m\u001b[0m\n",
      "\u001b[0;32m~/.local/lib/python3.7/site-packages/minerl/env/core.py\u001b[0m in \u001b[0;36m_peek_obs\u001b[0;34m(self)\u001b[0m\n\u001b[1;32m    470\u001b[0m             \u001b[0mpeek_message\u001b[0m \u001b[0;34m=\u001b[0m \u001b[0;34m\"<Peek/>\"\u001b[0m\u001b[0;34m\u001b[0m\u001b[0;34m\u001b[0m\u001b[0m\n\u001b[1;32m    471\u001b[0m             \u001b[0mcomms\u001b[0m\u001b[0;34m.\u001b[0m\u001b[0msend_message\u001b[0m\u001b[0;34m(\u001b[0m\u001b[0mself\u001b[0m\u001b[0;34m.\u001b[0m\u001b[0mclient_socket\u001b[0m\u001b[0;34m,\u001b[0m \u001b[0mpeek_message\u001b[0m\u001b[0;34m.\u001b[0m\u001b[0mencode\u001b[0m\u001b[0;34m(\u001b[0m\u001b[0;34m)\u001b[0m\u001b[0;34m)\u001b[0m\u001b[0;34m\u001b[0m\u001b[0;34m\u001b[0m\u001b[0m\n\u001b[0;32m--> 472\u001b[0;31m             \u001b[0mobs\u001b[0m \u001b[0;34m=\u001b[0m \u001b[0mcomms\u001b[0m\u001b[0;34m.\u001b[0m\u001b[0mrecv_message\u001b[0m\u001b[0;34m(\u001b[0m\u001b[0mself\u001b[0m\u001b[0;34m.\u001b[0m\u001b[0mclient_socket\u001b[0m\u001b[0;34m)\u001b[0m\u001b[0;34m\u001b[0m\u001b[0;34m\u001b[0m\u001b[0m\n\u001b[0m\u001b[1;32m    473\u001b[0m             \u001b[0minfo\u001b[0m \u001b[0;34m=\u001b[0m \u001b[0mcomms\u001b[0m\u001b[0;34m.\u001b[0m\u001b[0mrecv_message\u001b[0m\u001b[0;34m(\u001b[0m\u001b[0mself\u001b[0m\u001b[0;34m.\u001b[0m\u001b[0mclient_socket\u001b[0m\u001b[0;34m)\u001b[0m\u001b[0;34m.\u001b[0m\u001b[0mdecode\u001b[0m\u001b[0;34m(\u001b[0m\u001b[0;34m'utf-8'\u001b[0m\u001b[0;34m)\u001b[0m\u001b[0;34m\u001b[0m\u001b[0;34m\u001b[0m\u001b[0m\n\u001b[1;32m    474\u001b[0m \u001b[0;34m\u001b[0m\u001b[0m\n",
      "\u001b[0;32m~/.local/lib/python3.7/site-packages/minerl/env/comms.py\u001b[0m in \u001b[0;36mrecv_message\u001b[0;34m(sock)\u001b[0m\n\u001b[1;32m     60\u001b[0m \u001b[0;34m\u001b[0m\u001b[0m\n\u001b[1;32m     61\u001b[0m \u001b[0;32mdef\u001b[0m \u001b[0mrecv_message\u001b[0m\u001b[0;34m(\u001b[0m\u001b[0msock\u001b[0m\u001b[0;34m)\u001b[0m\u001b[0;34m:\u001b[0m\u001b[0;34m\u001b[0m\u001b[0;34m\u001b[0m\u001b[0m\n\u001b[0;32m---> 62\u001b[0;31m     \u001b[0mlengthbuf\u001b[0m \u001b[0;34m=\u001b[0m \u001b[0mrecvall\u001b[0m\u001b[0;34m(\u001b[0m\u001b[0msock\u001b[0m\u001b[0;34m,\u001b[0m \u001b[0;36m4\u001b[0m\u001b[0;34m)\u001b[0m\u001b[0;34m\u001b[0m\u001b[0;34m\u001b[0m\u001b[0m\n\u001b[0m\u001b[1;32m     63\u001b[0m     \u001b[0;32mif\u001b[0m \u001b[0;32mnot\u001b[0m \u001b[0mlengthbuf\u001b[0m\u001b[0;34m:\u001b[0m\u001b[0;34m\u001b[0m\u001b[0;34m\u001b[0m\u001b[0m\n\u001b[1;32m     64\u001b[0m         \u001b[0;32mreturn\u001b[0m \u001b[0;32mNone\u001b[0m\u001b[0;34m\u001b[0m\u001b[0;34m\u001b[0m\u001b[0m\n",
      "\u001b[0;32m~/.local/lib/python3.7/site-packages/minerl/env/comms.py\u001b[0m in \u001b[0;36mrecvall\u001b[0;34m(sock, count)\u001b[0m\n\u001b[1;32m     70\u001b[0m     \u001b[0mbuf\u001b[0m \u001b[0;34m=\u001b[0m \u001b[0;34mb''\u001b[0m\u001b[0;34m\u001b[0m\u001b[0;34m\u001b[0m\u001b[0m\n\u001b[1;32m     71\u001b[0m     \u001b[0;32mwhile\u001b[0m \u001b[0mcount\u001b[0m\u001b[0;34m:\u001b[0m\u001b[0;34m\u001b[0m\u001b[0;34m\u001b[0m\u001b[0m\n\u001b[0;32m---> 72\u001b[0;31m         \u001b[0mnewbuf\u001b[0m \u001b[0;34m=\u001b[0m \u001b[0msock\u001b[0m\u001b[0;34m.\u001b[0m\u001b[0mrecv\u001b[0m\u001b[0;34m(\u001b[0m\u001b[0mcount\u001b[0m\u001b[0;34m)\u001b[0m\u001b[0;34m\u001b[0m\u001b[0;34m\u001b[0m\u001b[0m\n\u001b[0m\u001b[1;32m     73\u001b[0m         \u001b[0;32mif\u001b[0m \u001b[0;32mnot\u001b[0m \u001b[0mnewbuf\u001b[0m\u001b[0;34m:\u001b[0m\u001b[0;34m\u001b[0m\u001b[0;34m\u001b[0m\u001b[0m\n\u001b[1;32m     74\u001b[0m             \u001b[0;32mreturn\u001b[0m \u001b[0;32mNone\u001b[0m\u001b[0;34m\u001b[0m\u001b[0;34m\u001b[0m\u001b[0m\n",
      "\u001b[0;31mKeyboardInterrupt\u001b[0m: "
     ]
    }
   ],
   "source": [
    "n_episodes=2000 # maximum number of training episodes\n",
    "max_t=1000 # maximum number of timesteps per episode\n",
    "eps_start=1.0 #  starting value of epsilon, for epsilon-greedy action selection\n",
    "eps_end=0.01 # minimum value of epsilon\n",
    "eps_decay=0.995 # multiplicative factor (per episode) for decreasing epsilon\n",
    "\n",
    "\n",
    "eps = eps_start                    # initialize epsilon\n",
    "for i_episode in tqdm(range(1, n_episodes+1)):\n",
    "    state, _ = env.reset()\n",
    "    score = 0\n",
    "    layer_rotations.append(layer_rotation.get_layer_rotation_list(agent.qnetwork_local.parameters()))\n",
    "    for t in range(max_t):\n",
    "        action_raw = agent.act([state['pov'].astype(float)], state['compassAngle'], eps)\n",
    "        action = convert_action(action_raw)   \n",
    "        next_state, reward, done, info = env.step(action)     \n",
    "        agent.step(state, action_raw, reward, next_state, done)\n",
    "        state = next_state\n",
    "        score += reward \n",
    "        iterations += 1\n",
    "        if done:\n",
    "            break\n",
    "    scores_window.append(score)       # save most recent score\n",
    "    scores.append(score)              # save most recent score\n",
    "    epsilons.append(eps)\n",
    "    eps = max(eps_end, eps_decay*eps) # decrease epsilon\n",
    "    print('\\rEpisode {}\\tMean Score: {:.2f}\\tMax score: {:.2f}'.format(i_episode,\n",
    "                                                                      np.mean(scores_window),\n",
    "                                                                      np.max(scores_window)))\n",
    "    if i_episode % 100 == 0:\n",
    "        print('\\rEpisode {}\\tAverage Score: {:.2f} \\tLoss: {:.2f}'.format(i_episode, \n",
    "                                                                   np.mean(scores_window),\n",
    "                                                                   agent.loss))\n",
    "    if np.mean(scores_window)>=200.0:\n",
    "        print('\\nEnvironment solved in {:d} episodes!\\tMean score: {:.2f}\\tMax score: {:.2f}'.format(i_episode-100, np.mean(scores_window), np.max(scores_window)))\n",
    "        torch.save(agent.qnetwork_local.state_dict(), 'checkpoint.pth')\n",
    "        break\n",
    "\n",
    "        pickle.dump(scores,open('scores.pickle','wb'))\n",
    "\n",
    "\n"
   ]
  },
  {
   "cell_type": "code",
   "execution_count": 108,
   "metadata": {},
   "outputs": [
    {
     "data": {
      "image/png": "[encoded data removed]",
      "text/plain": [
       "<Figure size 432x288 with 1 Axes>"
      ]
     },
     "metadata": {
      "needs_background": "light"
     },
     "output_type": "display_data"
    }
   ],
   "source": [
    "# plot the scores\n",
    "fig = plt.figure()\n",
    "ax = fig.add_subplot(111)\n",
    "plt.plot(np.arange(len(scores)), scores)\n",
    "plt.ylabel('Score')\n",
    "plt.xlabel('Episode #')\n",
    "plt.show()"
   ]
  },
  {
   "cell_type": "code",
   "execution_count": 37,
   "metadata": {},
   "outputs": [],
   "source": [
    "# torch.save(agent.qnetwork_local.state_dict(), 'checkpoint.pth')"
   ]
  },
  {
   "cell_type": "code",
   "execution_count": 10,
   "metadata": {},
   "outputs": [
    {
     "data": {
      "text/plain": [
       "IncompatibleKeys(missing_keys=[], unexpected_keys=[])"
      ]
     },
     "execution_count": 10,
     "metadata": {},
     "output_type": "execute_result"
    }
   ],
   "source": [
    "agent.qnetwork_local.load_state_dict(torch.load('checkpoint.pth'))"
   ]
  },
  {
   "cell_type": "code",
   "execution_count": 42,
   "metadata": {},
   "outputs": [
    {
     "name": "stdout",
     "output_type": "stream",
     "text": [
      "Total reward:  -7.6007843017578125\n"
     ]
    },
    {
     "data": {
      "image/png": "[encoded data removed]",
      "text/plain": [
       "<Figure size 432x288 with 1 Axes>"
      ]
     },
     "metadata": {
      "needs_background": "light"
     },
     "output_type": "display_data"
    }
   ],
   "source": [
    "net_reward = 0\n",
    "state, _ = env.reset()\n",
    "actions = []\n",
    "for i in range(200):\n",
    "    action_raw = agent.act([state['pov'].astype(float)], state['compassAngle'], 0.01)\n",
    "    action = convert_action(action_raw)  \n",
    "    actions.append((action, net_reward))\n",
    "    state, reward, done, info = env.step(\n",
    "        action)  \n",
    "    \n",
    "    if i%10==0:\n",
    "        plt.imshow(env.render(mode='rgb_array')) \n",
    "        display.display(plt.gcf())\n",
    "        clear_output(wait=True)\n",
    "    net_reward += reward\n",
    "print(\"Total reward: \", net_reward) "
   ]
  },
  {
   "cell_type": "code",
   "execution_count": 43,
   "metadata": {},
   "outputs": [
    {
     "data": {
      "text/plain": [
       "[({'left': 1}, 0),\n",
       " ({'left': 1}, -0.0782928466796875),\n",
       " ({'left': 1}, -0.199432373046875),\n",
       " ({'left': 1}, -0.34410858154296875),\n",
       " ({'camera': [0, -20]}, -0.5017547607421875),\n",
       " ({'left': 1}, -0.642578125),\n",
       " ({'left': 1}, -0.7744598388671875),\n",
       " ({'left': 1}, -0.901702880859375),\n",
       " ({'left': 1}, -1.026641845703125),\n",
       " ({'camera': [0, -20]}, -1.1505508422851562),\n",
       " ({'left': 1}, -1.2436676025390625),\n",
       " ({'left': 1}, -1.320281982421875),\n",
       " ({'left': 1}, -1.388214111328125),\n",
       " ({'left': 1}, -1.4516983032226562),\n",
       " ({'left': 1}, -1.5130538940429688),\n",
       " ({'left': 1}, -1.5735549926757812),\n",
       " ({'left': 1}, -1.633880615234375),\n",
       " ({'left': 1}, -1.6826019287109375),\n",
       " ({'left': 1}, -1.6983566284179688),\n",
       " ({'left': 1}, -1.6912612915039062),\n",
       " ({'camera': [0, 20]}, -1.5953445434570312),\n",
       " ({'left': 1}, -1.5270919799804688),\n",
       " ({'left': 1}, -1.5524520874023438),\n",
       " ({'left': 1}, -1.6249542236328125),\n",
       " ({'camera': [0, 20]}, -1.7234115600585938),\n",
       " ({'left': 1}, -1.8590774536132812),\n",
       " ({'left': 1}, -2.0151290893554688),\n",
       " ({'left': 1}, -2.1823883056640625),\n",
       " ({'camera': [0, 20]}, -2.3558578491210938),\n",
       " ({'left': 1}, -2.545562744140625),\n",
       " ({'left': 1}, -2.7441177368164062),\n",
       " ({'left': 1}, -2.9475021362304688),\n",
       " ({'left': 1}, -3.1535415649414062),\n",
       " ({'left': 1}, -3.361053466796875),\n",
       " ({'left': 1}, -3.5381546020507812),\n",
       " ({'left': 1}, -3.726470947265625),\n",
       " ({'left': 1}, -3.924407958984375),\n",
       " ({'left': 1}, -4.127601623535156),\n",
       " ({'left': 1}, -4.333686828613281),\n",
       " ({'camera': [0, 20]}, -4.541358947753906),\n",
       " ({'left': 1}, -4.75091552734375),\n",
       " ({'left': 1}, -4.9615020751953125),\n",
       " ({'left': 1}, -5.1726531982421875),\n",
       " ({'camera': [0, -20]}, -5.384124755859375),\n",
       " ({'camera': [0, -20]}, -5.5947418212890625),\n",
       " ({'camera': [0, -20]}, -5.792411804199219),\n",
       " ({'camera': [0, 20]}, -5.9606781005859375),\n",
       " ({'camera': [0, 20]}, -6.136009216308594),\n",
       " ({'left': 1}, -6.3270721435546875),\n",
       " ({'left': 1}, -6.5267181396484375),\n",
       " ({'camera': [0, 20]}, -6.731048583984375),\n",
       " ({'camera': [0, -20]}, -6.938751220703125),\n",
       " ({'left': 1}, -7.147483825683594),\n",
       " ({'right': 1}, -7.3567962646484375),\n",
       " ({'camera': [0, 20]}, -7.471092224121094),\n",
       " ({'camera': [0, -20]}, -7.533500671386719),\n",
       " ({'camera': [0, 20]}, -7.567573547363281),\n",
       " ({'right': 1}, -7.586181640625),\n",
       " ({'right': 1}, -7.596336364746094),\n",
       " ({'right': 1}, -7.6007843017578125),\n",
       " ({'right': 1}, -7.6007843017578125),\n",
       " ({'right': 1}, -7.6007843017578125),\n",
       " ({'right': 1}, -7.6007843017578125),\n",
       " ({'right': 1}, -7.6007843017578125),\n",
       " ({'right': 1}, -7.6007843017578125),\n",
       " ({'right': 1}, -7.6007843017578125),\n",
       " ({'right': 1}, -7.6007843017578125),\n",
       " ({'right': 1}, -7.6007843017578125),\n",
       " ({'right': 1}, -7.6007843017578125),\n",
       " ({'right': 1}, -7.6007843017578125),\n",
       " ({'right': 1}, -7.6007843017578125),\n",
       " ({'right': 1}, -7.6007843017578125),\n",
       " ({'right': 1}, -7.6007843017578125),\n",
       " ({'right': 1}, -7.6007843017578125),\n",
       " ({'right': 1}, -7.6007843017578125),\n",
       " ({'right': 1}, -7.6007843017578125),\n",
       " ({'right': 1}, -7.6007843017578125),\n",
       " ({'right': 1}, -7.6007843017578125),\n",
       " ({'right': 1}, -7.6007843017578125),\n",
       " ({'right': 1}, -7.6007843017578125),\n",
       " ({'right': 1}, -7.6007843017578125),\n",
       " ({'right': 1}, -7.6007843017578125),\n",
       " ({'right': 1}, -7.6007843017578125),\n",
       " ({'right': 1}, -7.6007843017578125),\n",
       " ({'right': 1}, -7.6007843017578125),\n",
       " ({'right': 1}, -7.6007843017578125),\n",
       " ({'right': 1}, -7.6007843017578125),\n",
       " ({'right': 1}, -7.6007843017578125),\n",
       " ({'right': 1}, -7.6007843017578125),\n",
       " ({'right': 1}, -7.6007843017578125),\n",
       " ({'right': 1}, -7.6007843017578125),\n",
       " ({'right': 1}, -7.6007843017578125),\n",
       " ({'right': 1}, -7.6007843017578125),\n",
       " ({'right': 1}, -7.6007843017578125),\n",
       " ({'right': 1}, -7.6007843017578125),\n",
       " ({'right': 1}, -7.6007843017578125),\n",
       " ({'right': 1}, -7.6007843017578125),\n",
       " ({'right': 1}, -7.6007843017578125),\n",
       " ({'right': 1}, -7.6007843017578125),\n",
       " ({'right': 1}, -7.6007843017578125),\n",
       " ({'right': 1}, -7.6007843017578125),\n",
       " ({'right': 1}, -7.6007843017578125),\n",
       " ({'right': 1}, -7.6007843017578125),\n",
       " ({'right': 1}, -7.6007843017578125),\n",
       " ({'right': 1}, -7.6007843017578125),\n",
       " ({'right': 1}, -7.6007843017578125),\n",
       " ({'right': 1}, -7.6007843017578125),\n",
       " ({'right': 1}, -7.6007843017578125),\n",
       " ({'right': 1}, -7.6007843017578125),\n",
       " ({'right': 1}, -7.6007843017578125),\n",
       " ({'right': 1}, -7.6007843017578125),\n",
       " ({'right': 1}, -7.6007843017578125),\n",
       " ({'right': 1}, -7.6007843017578125),\n",
       " ({'right': 1}, -7.6007843017578125),\n",
       " ({'right': 1}, -7.6007843017578125),\n",
       " ({'right': 1}, -7.6007843017578125),\n",
       " ({'right': 1}, -7.6007843017578125),\n",
       " ({'right': 1}, -7.6007843017578125),\n",
       " ({'right': 1}, -7.6007843017578125),\n",
       " ({'right': 1}, -7.6007843017578125),\n",
       " ({'right': 1}, -7.6007843017578125),\n",
       " ({'right': 1}, -7.6007843017578125),\n",
       " ({'right': 1}, -7.6007843017578125),\n",
       " ({'right': 1}, -7.6007843017578125),\n",
       " ({'right': 1}, -7.6007843017578125),\n",
       " ({'right': 1}, -7.6007843017578125),\n",
       " ({'right': 1}, -7.6007843017578125),\n",
       " ({'right': 1}, -7.6007843017578125),\n",
       " ({'right': 1}, -7.6007843017578125),\n",
       " ({'right': 1}, -7.6007843017578125),\n",
       " ({'right': 1}, -7.6007843017578125),\n",
       " ({'right': 1}, -7.6007843017578125),\n",
       " ({'right': 1}, -7.6007843017578125),\n",
       " ({'right': 1}, -7.6007843017578125),\n",
       " ({'right': 1}, -7.6007843017578125),\n",
       " ({'right': 1}, -7.6007843017578125),\n",
       " ({'right': 1}, -7.6007843017578125),\n",
       " ({'right': 1}, -7.6007843017578125),\n",
       " ({'right': 1}, -7.6007843017578125),\n",
       " ({'right': 1}, -7.6007843017578125),\n",
       " ({'right': 1}, -7.6007843017578125),\n",
       " ({'right': 1}, -7.6007843017578125),\n",
       " ({'right': 1}, -7.6007843017578125),\n",
       " ({'right': 1}, -7.6007843017578125),\n",
       " ({'right': 1}, -7.6007843017578125),\n",
       " ({'right': 1}, -7.6007843017578125),\n",
       " ({'right': 1}, -7.6007843017578125),\n",
       " ({'right': 1}, -7.6007843017578125),\n",
       " ({'right': 1}, -7.6007843017578125),\n",
       " ({'right': 1}, -7.6007843017578125),\n",
       " ({'right': 1}, -7.6007843017578125),\n",
       " ({'right': 1}, -7.6007843017578125),\n",
       " ({'right': 1}, -7.6007843017578125),\n",
       " ({'right': 1}, -7.6007843017578125),\n",
       " ({'right': 1}, -7.6007843017578125),\n",
       " ({'right': 1}, -7.6007843017578125),\n",
       " ({'right': 1}, -7.6007843017578125),\n",
       " ({'right': 1}, -7.6007843017578125),\n",
       " ({'right': 1}, -7.6007843017578125),\n",
       " ({'right': 1}, -7.6007843017578125),\n",
       " ({'right': 1}, -7.6007843017578125),\n",
       " ({'right': 1}, -7.6007843017578125),\n",
       " ({'right': 1}, -7.6007843017578125),\n",
       " ({'right': 1}, -7.6007843017578125),\n",
       " ({'right': 1}, -7.6007843017578125),\n",
       " ({'right': 1}, -7.6007843017578125),\n",
       " ({'right': 1}, -7.6007843017578125),\n",
       " ({'right': 1}, -7.6007843017578125),\n",
       " ({'right': 1}, -7.6007843017578125),\n",
       " ({'right': 1}, -7.6007843017578125),\n",
       " ({'right': 1}, -7.6007843017578125),\n",
       " ({'right': 1}, -7.6007843017578125),\n",
       " ({'right': 1}, -7.6007843017578125),\n",
       " ({'right': 1}, -7.6007843017578125),\n",
       " ({'right': 1}, -7.6007843017578125),\n",
       " ({'right': 1}, -7.6007843017578125),\n",
       " ({'right': 1}, -7.6007843017578125),\n",
       " ({'right': 1}, -7.6007843017578125),\n",
       " ({'right': 1}, -7.6007843017578125),\n",
       " ({'right': 1}, -7.6007843017578125),\n",
       " ({'right': 1}, -7.6007843017578125),\n",
       " ({'right': 1}, -7.6007843017578125),\n",
       " ({'right': 1}, -7.6007843017578125),\n",
       " ({'right': 1}, -7.6007843017578125),\n",
       " ({'right': 1}, -7.6007843017578125),\n",
       " ({'right': 1}, -7.6007843017578125),\n",
       " ({'right': 1}, -7.6007843017578125),\n",
       " ({'right': 1}, -7.6007843017578125),\n",
       " ({'right': 1}, -7.6007843017578125),\n",
       " ({'right': 1}, -7.6007843017578125),\n",
       " ({'right': 1}, -7.6007843017578125),\n",
       " ({'right': 1}, -7.6007843017578125),\n",
       " ({'right': 1}, -7.6007843017578125),\n",
       " ({'right': 1}, -7.6007843017578125),\n",
       " ({'right': 1}, -7.6007843017578125),\n",
       " ({'right': 1}, -7.6007843017578125),\n",
       " ({'right': 1}, -7.6007843017578125),\n",
       " ({'right': 1}, -7.6007843017578125),\n",
       " ({'right': 1}, -7.6007843017578125),\n",
       " ({'right': 1}, -7.6007843017578125)]"
      ]
     },
     "execution_count": 43,
     "metadata": {},
     "output_type": "execute_result"
    }
   ],
   "source": [
    "actions"
   ]
  },
  {
   "cell_type": "code",
   "execution_count": 99,
   "metadata": {
    "scrolled": true
   },
   "outputs": [
    {
     "name": "stdout",
     "output_type": "stream",
     "text": [
      "Total reward:  -7.900337219238281\n"
     ]
    },
    {
     "data": {
      "image/png": "[encoded data removed]",
      "text/plain": [
       "<Figure size 432x288 with 1 Axes>"
      ]
     },
     "metadata": {
      "needs_background": "light"
     },
     "output_type": "display_data"
    }
   ],
   "source": [
    "for i in range(200):\n",
    "    action_raw = agent.act([state['pov'].astype(float)], state['compassAngle'], 0.05)\n",
    "    action = convert_action(action_raw)  \n",
    "    actions.append((action, state['compassAngle'], net_reward))\n",
    "    state, reward, done, info = env.step(\n",
    "        action)  \n",
    "    if i%10==0:\n",
    "        plt.imshow(env.render(mode='rgb_array')) \n",
    "        display.display(plt.gcf())\n",
    "        clear_output(wait=True)\n",
    "    net_reward += reward\n",
    "print(\"Total reward: \", net_reward) "
   ]
  },
  {
   "cell_type": "code",
   "execution_count": 100,
   "metadata": {},
   "outputs": [
    {
     "data": {
      "text/plain": [
       "[({'camera': [0, -20]}, -101.80438, -7.888671875),\n",
       " ({'camera': [0, 20]}, -100.70087, -7.9160003662109375),\n",
       " ({'camera': [0, -20]}, -101.33591, -7.941558837890625),\n",
       " ({'camera': [0, 20]}, -101.71118, -7.9590606689453125),\n",
       " ({'camera': [0, -20]}, -103.44882, -7.969657897949219),\n",
       " ({'left': 1}, -104.53757, -7.971168518066406),\n",
       " ({'left': 1}, -105.02042, -7.963584899902344),\n",
       " ({'left': 1}, -104.980225, -7.9471588134765625),\n",
       " ({'forward': 1}, -104.52521, -7.9223785400390625),\n",
       " ({'camera': [0, 20]}, -103.77515, -7.8899383544921875),\n",
       " ({'left': 1}, -104.44928, -7.852500915527344),\n",
       " ({'left': 1}, -106.20929, -7.8110198974609375),\n",
       " ({'camera': [0, 20]}, -108.69745, -7.792778015136719),\n",
       " ({'camera': [0, -20]}, -113.16907, -7.830207824707031),\n",
       " ({'left': 1}, -117.26959, -7.8605499267578125),\n",
       " ({'left': 1}, -120.74536, -7.884132385253906),\n",
       " ({'camera': [0, -20]}, -123.44318, -7.900260925292969),\n",
       " ({'left': 1}, -123.70288, -7.906791687011719),\n",
       " ({'left': 1}, -121.991394, -7.905357360839844),\n",
       " ({'left': 1}, -118.839905, -7.8961029052734375),\n",
       " ({'camera': [0, 20]}, -114.7887, -7.879417419433594),\n",
       " ({'left': 1}, -111.94165, -7.857673645019531),\n",
       " ({'left': 1}, -110.28583, -7.829963684082031),\n",
       " ({'left': 1}, -109.71539, -7.797340393066406),\n",
       " ({'camera': [0, 20]}, -110.0589, -7.78717041015625),\n",
       " ({'camera': [0, -20]}, -112.70581, -7.831947326660156),\n",
       " ({'camera': [0, -20]}, -115.383484, -7.867034912109375),\n",
       " ({'camera': [0, 20]}, -116.27139, -7.8932037353515625),\n",
       " ({'left': 1}, -117.25659, -7.909324645996094),\n",
       " ({'camera': [0, 20]}, -118.24069, -7.917594909667969),\n",
       " ({'camera': [0, -20]}, -120.74524, -7.919639587402344),\n",
       " ({'right': 1}, -122.66565, -7.912117004394531),\n",
       " ({'camera': [0, -20]}, -123.96521, -7.897178649902344),\n",
       " ({'camera': [0, 20]}, -123.06415, -7.873695373535156),\n",
       " ({'left': 1}, -122.07468, -7.846000671386719),\n",
       " ({'left': 1}, -121.09363, -7.813377380371094),\n",
       " ({'camera': [0, 20]}, -120.197876, -7.803215026855469),\n",
       " ({'camera': [0, -20]}, -121.041626, -7.847984313964844),\n",
       " ({'left': 1}, -121.609314, -7.883064270019531),\n",
       " ({'left': 1}, -121.91058, -7.9109649658203125),\n",
       " ({'left': 1}, -121.97443, -7.9310150146484375),\n",
       " ({'left': 1}, -121.8432, -7.9428558349609375),\n",
       " ({'left': 1}, -121.56622, -7.9464111328125),\n",
       " ({'left': 1}, -121.19473, -7.941856384277344),\n",
       " ({'left': 1}, -120.77722, -7.929618835449219),\n",
       " ({'left': 1}, -120.35629, -7.907890319824219),\n",
       " ({'camera': [0, -20]}, -119.96631, -7.8802032470703125),\n",
       " ({'left': 1}, -118.03241, -7.845855712890625),\n",
       " ({'camera': [0, 20]}, -115.018005, -7.833953857421875),\n",
       " ({'left': 1}, -112.98047, -7.8700103759765625)]"
      ]
     },
     "execution_count": 100,
     "metadata": {},
     "output_type": "execute_result"
    }
   ],
   "source": [
    "actions[-50:]"
   ]
  },
  {
   "cell_type": "markdown",
   "metadata": {},
   "source": [
    "# DDPG (not implemented yet)"
   ]
  },
  {
   "cell_type": "code",
   "execution_count": 0,
   "metadata": {
    "colab": {},
    "colab_type": "code",
    "id": "pfdUy_YP8EAx"
   },
   "outputs": [],
   "source": [
    "class ReplayBuffer:\n",
    "    \"\"\"Fixed-size buffer to store experience tuples.\"\"\"\n",
    "\n",
    "    def __init__(self, buffer_size, batch_size):\n",
    "        \"\"\"Initialize a ReplayBuffer object.\n",
    "\n",
    "        Params\n",
    "        ======\n",
    "            buffer_size (int): maximum size of buffer\n",
    "            batch_size (int): size of each training batch\n",
    "            seed (int): random seed\n",
    "        \"\"\"\n",
    "        self.memory = deque(maxlen=buffer_size)  \n",
    "        self.batch_size = batch_size\n",
    "        self.experience = namedtuple(\"Experience\", field_names=[\"state\", \n",
    "                                                                \"action\", \n",
    "                                                                \"reward\", \n",
    "                                                                \"next_state\", \n",
    "                                                                \"done\",\n",
    "                                                                \"td_error\"])\n",
    "        self.td_errors = []\n",
    "    \n",
    "    def add(self, states, actions, rewards, next_states, dones, td_errors):\n",
    "        \"\"\"Add a new experience to memory.\"\"\"\n",
    "        e = self.experience(states, actions, rewards, next_states, dones, td_errors)\n",
    "        self.memory.append(e)\n",
    "        self.td_errors.append(max(td_errors))\n",
    "    \n",
    "    def sample(self):\n",
    "        \"\"\"Randomly sample a batch of experiences from memory.\"\"\"\n",
    "        \n",
    "        td_error_probs = self.get_td_errors_probs(self.td_errors)\n",
    "        elements = np.random.choice(range(len(self.memory)), size=BATCH_SIZE, \n",
    "                                    p=td_error_probs, replace=False)\n",
    "        experiences = [self.memory[element] for element in elements]\n",
    "        states = torch.from_numpy(np.stack([e.state for e in experiences if e is not None])).float().to(device)\n",
    "        actions = torch.from_numpy(np.stack([e.action for e in experiences if e is not None])).float().to(device)\n",
    "        rewards = torch.from_numpy(np.stack([e.reward for e in experiences if e is not None])).float().to(device)\n",
    "        next_states = torch.from_numpy(np.stack([e.next_state for e in experiences if e is not None])).float().to(device)\n",
    "        dones = torch.from_numpy(np.stack([e.done for e in experiences if e is not None]).astype(np.uint8)).float().to(device)\n",
    "        td_errors = torch.from_numpy(np.stack([e.td_error for e in experiences if e is not None])).float().to(device)\n",
    "  \n",
    "        return (states, actions, rewards, next_states, dones, td_errors)\n",
    "\n",
    "    def __len__(self):\n",
    "        \"\"\"Return the current size of internal memory.\"\"\"\n",
    "        return len(self.memory)\n",
    "        \n",
    "    def get_td_errors_probs(self, td_errors):\n",
    "        td_error_probs_scaled = np.abs(td_errors)**PE_ALPHA\n",
    "        return td_error_probs_scaled / (np.abs(self.td_errors)**PE_ALPHA).sum()"
   ]
  },
  {
   "cell_type": "code",
   "execution_count": 12,
   "metadata": {
    "colab": {},
    "colab_type": "code",
    "id": "vdMthHRe8EAy"
   },
   "outputs": [],
   "source": [
    "class OUNoise:\n",
    "    \"\"\"Ornstein-Uhlenbeck process.\"\"\"\n",
    "\n",
    "    def __init__(self, size, mu=0., theta=0.2, sigma=1):\n",
    "        \"\"\"Initialize parameters and noise process.\"\"\"\n",
    "        self.mu = mu * np.ones(size)\n",
    "        self.theta = theta\n",
    "        self.sigma = sigma\n",
    "        self.state = copy.copy(self.mu)\n",
    "        self.size = size\n",
    "        self.reset()\n",
    "\n",
    "    def sample(self):\n",
    "        \"\"\"Update internal state and return it as a noise sample.\"\"\"\n",
    "        x = self.stat\n",
    "        dx = self.theta * (self.mu - x) + self.sigma * np.random.standard_normal(self.size)\n",
    "        self.state = x + dx\n",
    "        return self.state\n",
    "    \n",
    "    def reset(self):\n",
    "        \"\"\"Reset the internal state (= noise) to mean (mu).\"\"\"\n",
    "        self.state = copy.copy(self.mu)"
   ]
  },
  {
   "cell_type": "code",
   "execution_count": 13,
   "metadata": {
    "colab": {},
    "colab_type": "code",
    "id": "CShe4EU18EA0"
   },
   "outputs": [],
   "source": [
    "def soft_update(local_model, target_model, tau):\n",
    "        \"\"\"Soft update model parameters.\n",
    "        θ_target = τ*θ_local + (1 - τ)*θ_target\n",
    "\n",
    "        Params\n",
    "        ======\n",
    "            local_model (PyTorch model): weights will be copied from\n",
    "            target_model (PyTorch model): weights will be copied to\n",
    "            tau (float): interpolation parameter \n",
    "        \"\"\"\n",
    "        for target_param, local_param in zip(target_model.parameters(), local_model.parameters()):\n",
    "            target_param.data.copy_(tau*local_param.data + (1.0-tau)*target_param.data)"
   ]
  },
  {
   "cell_type": "code",
   "execution_count": 14,
   "metadata": {
    "colab": {},
    "colab_type": "code",
    "id": "4VXQAGY08EA1"
   },
   "outputs": [],
   "source": [
    "def layer_init(layer, w_scale=1):\n",
    "    nn.init.uniform_(layer.weight.data, a=-LAYER_INIT_RANGE, b=LAYER_INIT_RANGE)\n",
    "    layer.weight.data.mul_(w_scale)\n",
    "    nn.init.uniform_(layer.bias.data, a=-LAYER_INIT_RANGE, b=LAYER_INIT_RANGE)\n",
    "    return layer"
   ]
  },
  {
   "cell_type": "code",
   "execution_count": 15,
   "metadata": {
    "colab": {},
    "colab_type": "code",
    "id": "vwz4hkKK8EA3"
   },
   "outputs": [],
   "source": [
    "class QFunction(nn.Module):\n",
    "    def __init__(self, state_dim, actions_dim, hidden_units=(256, 128), \n",
    "                 activation=F.leaky_relu):\n",
    "        super(QFunction, self).__init__()\n",
    "        dims = (state_dim + actions_dim, ) + hidden_units + (1, )\n",
    "        self.layers = nn.ModuleList(\n",
    "            [layer_init(nn.Linear(dim_in, dim_out)) for dim_in, dim_out in zip(dims[:-1], dims[1:])])\n",
    "        self.activation = activation      \n",
    "        \n",
    "    def forward(self, state, action, no_grad=False):\n",
    "        x = torch.cat([state, action], dim=1)\n",
    "        for layer in self.layers[:-1]:\n",
    "            x = self.activation(layer(x))\n",
    "        return self.layers[-1](x)"
   ]
  },
  {
   "cell_type": "code",
   "execution_count": 16,
   "metadata": {
    "colab": {},
    "colab_type": "code",
    "id": "Qguft8u98EA4"
   },
   "outputs": [],
   "source": [
    "class DeterministicPolicy(nn.Module):\n",
    "    def __init__(self, state_dim, actions_dim, hidden_units=(256, 128) , \n",
    "                 activation=F.leaky_relu):\n",
    "        super(DeterministicPolicy, self).__init__()\n",
    "        dims = (state_dim,) + hidden_units +(actions_dim,)\n",
    "        self.layers = nn.ModuleList(\n",
    "            [layer_init(nn.Linear(dim_in, dim_out)) for dim_in, dim_out in zip(dims[:-1], dims[1:])])\n",
    "        self.activation = activation      \n",
    "        \n",
    "    def forward(self, state):\n",
    "        x = state\n",
    "        for layer in self.layers[:-1]:\n",
    "            x = self.activation(layer(x))\n",
    "        return F.tanh( self.layers[-1](x) )"
   ]
  },
  {
   "cell_type": "code",
   "execution_count": 23,
   "metadata": {},
   "outputs": [],
   "source": [
    "a = env.step(action)"
   ]
  },
  {
   "cell_type": "code",
   "execution_count": null,
   "metadata": {},
   "outputs": [],
   "source": []
  },
  {
   "cell_type": "code",
   "execution_count": null,
   "metadata": {},
   "outputs": [],
   "source": []
  },
  {
   "cell_type": "code",
   "execution_count": 26,
   "metadata": {
    "colab": {},
    "colab_type": "code",
    "id": "ptJuiRHe8EA6"
   },
   "outputs": [],
   "source": [
    "def perform_an_action(state, noise):\n",
    "    state_tensor = torch.FloatTensor(state).to(device)\n",
    "    actor.eval() \n",
    "    with torch.no_grad():            \n",
    "        action = actor(state_tensor.unsqueeze(0)).squeeze().detach().cpu().numpy() + noise.sample()\n",
    "        if ACTION_CLIPPING:\n",
    "            action = np.clip(action, -1, 1)\n",
    "    actor.train()\n",
    "    next_state, reward, done, _ = env.step(action)\n",
    "\n",
    "    return state, action, reward, next_state, done"
   ]
  },
  {
   "cell_type": "code",
   "execution_count": 0,
   "metadata": {
    "colab": {},
    "colab_type": "code",
    "id": "X63Pp-H88EA8"
   },
   "outputs": [],
   "source": [
    "# def watch_env(t_max=600, ou_sigma=0):\n",
    "#     time.sleep(0.1)\n",
    "#     env_info = env.reset(train_mode=False)[brain_name]      # reset the environment    \n",
    "#     states = env_info.vector_observations / STATES_DIVISOR                # get the current state (for each agent)\n",
    "#     scores = np.zeros(num_actors)                          # initialize the score (for each agent)\n",
    "#     noise = OUNoise(size=action_size, theta=ou_sigma, sigma=OU_SIGMA_END)\n",
    "#     noise_sample = noise.sample()\n",
    "#     for i in range(t_max):\n",
    "#         states, actions, rewards, next_states, dones = perform_an_action(states, noise)\n",
    "#         scores += rewards                         # update the score (for each agent)\n",
    "#         states = next_states                               # roll over states to next time step\n",
    "#         time.sleep(0.01)\n",
    "#         if np.any(dones):                                  # exit loop if episode finished\n",
    "#             break\n",
    "#     print('Total score (averaged over actors) this episode: {}'.format(np.mean(scores)))"
   ]
  },
  {
   "cell_type": "code",
   "execution_count": 0,
   "metadata": {
    "colab": {},
    "colab_type": "code",
    "id": "fYg6WRuQ8EA9"
   },
   "outputs": [],
   "source": [
    "def train_step():\n",
    "    states_r, actions_r, rewards_r, next_states_r, dones_r, td_errors_r = replay_buffer.sample()\n",
    "\n",
    "    weights = 1/ ( replay_buffer.get_td_errors_probs(td_errors_r) * len(replay_buffer))**beta\n",
    "    for i in range(num_actors):\n",
    "        #from IPython.core.debugger import Tracer; Tracer()()\n",
    "        next_actions_all_r = torch.cat([actor_targets[j](next_states_r[:,j,:]) \\\n",
    "                                          for j in range(num_actors)], dim=1)\n",
    "        critic_target_result = critic_targets[i](adapt_c(next_states_r), \n",
    "                                                 next_actions_all_r).squeeze() * (1-dones_r[:,i])\n",
    "\n",
    "        y = (rewards_r[:,i] + critic_target_result * GAMMA) * weights[:,i].to(device)\n",
    "        y = y.detach()\n",
    "\n",
    "        # Train critic\n",
    "        critic_result = critics[i](adapt_c(states_r), adapt_c(actions_r)).squeeze()\n",
    "        critic_loss_value = F.mse_loss(critic_result, y)\n",
    "        critic_optimizers[i].zero_grad()\n",
    "        critic_loss_value.backward()\n",
    "        torch.nn.utils.clip_grad_norm_(critics[i].parameters(), GRAD_CLIPPING)\n",
    "        critic_optimizers[i].step()\n",
    "\n",
    "        # Train the actor\n",
    "        actions_all_r = torch.cat([actors[j](states_r[:,j,:]) if (j==i) else\\\n",
    "                                   actors[j](states_r[:,j,:]).detach() for j in range(num_actors)], dim=1)\n",
    "        change_grad(critics[i], flag_set=False)\n",
    "\n",
    "        actor_loss_value = -critics[i](adapt_c(states_r), actions_all_r, no_grad=False).mean()\n",
    "        actor_optimizers[i].zero_grad()\n",
    "        actor_loss_value.backward()\n",
    "        torch.nn.utils.clip_grad_norm_(actors[i].parameters(), GRAD_CLIPPING)\n",
    "        actor_optimizers[i].step()\n",
    "\n",
    "        change_grad(critics[i], flag_set=True)\n",
    "\n",
    "        # Update parameters\n",
    "        soft_update(actors[i], actor_targets[i], TAU)\n",
    "        soft_update(critics[i], critic_targets[i], TAU)\n",
    "\n",
    "        # Monitoring\n",
    "        actions_actor = actors[i](states_r[:,i,:])\n",
    "        actions_actor_target = actor_targets[i](states_r[:,i,:])\n",
    "#         store_monitoring(critic_target_result,critic_result, actions_actor, actions_actor_target, y, i)"
   ]
  },
  {
   "cell_type": "code",
   "execution_count": 0,
   "metadata": {
    "colab": {},
    "colab_type": "code",
    "id": "GZQGzUQQ8EA_"
   },
   "outputs": [],
   "source": []
  },
  {
   "cell_type": "code",
   "execution_count": 0,
   "metadata": {
    "colab": {},
    "colab_type": "code",
    "id": "sfYH-Hkx8EBA"
   },
   "outputs": [],
   "source": []
  },
  {
   "cell_type": "code",
   "execution_count": 20,
   "metadata": {
    "colab": {},
    "colab_type": "code",
    "id": "MpBKqgqB8EBC"
   },
   "outputs": [],
   "source": [
    "action = env.action_space.noop()"
   ]
  },
  {
   "cell_type": "code",
   "execution_count": 21,
   "metadata": {},
   "outputs": [
    {
     "data": {
      "text/plain": [
       "{'attack': 0,\n",
       " 'back': 0,\n",
       " 'camera': array([0., 0.], dtype=float32),\n",
       " 'forward': 0,\n",
       " 'jump': 0,\n",
       " 'left': 0,\n",
       " 'place': 0,\n",
       " 'right': 0,\n",
       " 'sneak': 0,\n",
       " 'sprint': 0}"
      ]
     },
     "execution_count": 21,
     "metadata": {},
     "output_type": "execute_result"
    }
   ],
   "source": [
    "action"
   ]
  },
  {
   "cell_type": "code",
   "execution_count": 0,
   "metadata": {
    "colab": {},
    "colab_type": "code",
    "id": "QRmUYVhE8EBD",
    "outputId": "21b2cc8f-6c1e-4dec-b32d-66ee61da5fce",
    "scrolled": false
   },
   "outputs": [
    {
     "name": "stdout",
     "output_type": "stream",
     "text": [
      "Total reward:  14.878982543945312\n"
     ]
    },
    {
     "data": {
      "image/png": "[encoded data removed]",
      "text/plain": [
       "<Figure size 432x288 with 1 Axes>"
      ]
     },
     "metadata": {
      "needs_background": "light",
      "tags": []
     },
     "output_type": "display_data"
    }
   ],
   "source": [
    "\n"
   ]
  },
  {
   "cell_type": "code",
   "execution_count": 0,
   "metadata": {
    "colab": {},
    "colab_type": "code",
    "id": "lCTC162y8EBG"
   },
   "outputs": [],
   "source": []
  },
  {
   "cell_type": "code",
   "execution_count": 0,
   "metadata": {
    "colab": {},
    "colab_type": "code",
    "id": "lkkCS5rP8EBJ"
   },
   "outputs": [],
   "source": []
  },
  {
   "cell_type": "code",
   "execution_count": 0,
   "metadata": {
    "colab": {},
    "colab_type": "code",
    "id": "twF67lVR8EBL",
    "outputId": "cdadaefd-a194-40cb-d4d7-ea0ebf0a2bbc"
   },
   "outputs": [
    {
     "data": {
      "text/plain": [
       "EnvSpec(MineRLNavigateDense-v0)"
      ]
     },
     "execution_count": 14,
     "metadata": {
      "tags": []
     },
     "output_type": "execute_result"
    }
   ],
   "source": [
    "env."
   ]
  },
  {
   "cell_type": "code",
   "execution_count": 0,
   "metadata": {
    "colab": {},
    "colab_type": "code",
    "id": "wkQUMFrg8EBO",
    "outputId": "3d5db205-e3f9-4ebc-bc52-a63814af049e"
   },
   "outputs": [
    {
     "data": {
      "text/plain": [
       "Dict(compassAngle:Box(1,), inventory:Dict(dirt:Box(1,)), pov:Box(64, 64, 3))"
      ]
     },
     "execution_count": 9,
     "metadata": {
      "tags": []
     },
     "output_type": "execute_result"
    }
   ],
   "source": [
    "env.observation_space"
   ]
  },
  {
   "cell_type": "code",
   "execution_count": 0,
   "metadata": {
    "colab": {},
    "colab_type": "code",
    "id": "Jv-_UY0V8EBR"
   },
   "outputs": [],
   "source": []
  }
 ],
 "metadata": {
  "colab": {
   "name": "minerl-v0.ipynb",
   "provenance": [],
   "version": "0.3.2"
  },
  "kernelspec": {
   "display_name": "Python 3",
   "language": "python",
   "name": "python3"
  },
  "language_info": {
   "codemirror_mode": {
    "name": "ipython",
    "version": 3
   },
   "file_extension": ".py",
   "mimetype": "text/x-python",
   "name": "python",
   "nbconvert_exporter": "python",
   "pygments_lexer": "ipython3",
   "version": "3.7.3"
  }
 },
 "nbformat": 4,
 "nbformat_minor": 1
}
