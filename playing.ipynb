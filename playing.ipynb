{
 "cells": [
  {
   "cell_type": "code",
   "execution_count": 11,
   "metadata": {},
   "outputs": [],
   "source": [
    "import minerl\n",
    "import gym\n",
    "import matplotlib.pyplot as plt\n",
    "from IPython.display import clear_output\n",
    "from IPython import display\n",
    "\n",
    "ENV_NAME = 'MineRLObtainDiamond-v0'\n",
    "%matplotlib inline"
   ]
  },
  {
   "cell_type": "code",
   "execution_count": 4,
   "metadata": {},
   "outputs": [
    {
     "name": "stdout",
     "output_type": "stream",
     "text": [
      "CPU times: user 155 ms, sys: 244 ms, total: 399 ms\n",
      "Wall time: 40 s\n"
     ]
    }
   ],
   "source": [
    "if 'env' not in locals():\n",
    "    %time env = gym.make(ENV_NAME)"
   ]
  },
  {
   "cell_type": "code",
   "execution_count": 5,
   "metadata": {},
   "outputs": [],
   "source": [
    "%time obs = env.reset()\n",
    "net_reward = 0\n",
    "actions = []\n",
    "score = 0\n",
    "current_score = []"
   ]
  },
  {
   "cell_type": "code",
   "execution_count": 217,
   "metadata": {},
   "outputs": [
    {
     "name": "stdout",
     "output_type": "stream",
     "text": [
      "equipped: {'mainhand': {'damage': 0, 'maxDamage': -1, 'type': 'log'}}\n",
      "inventory: {'coal': 0, 'cobblestone': 0, 'crafting_table': 1, 'dirt': 10, 'furnace': 0, 'iron_axe': 0, 'iron_ingot': 0, 'iron_ore': 0, 'iron_pickaxe': 0, 'log': 1, 'planks': 4, 'stick': 8, 'stone': 0, 'stone_axe': 0, 'stone_pickaxe': 0, 'torch': 0, 'wooden_axe': 0, 'wooden_pickaxe': 0}\n"
     ]
    },
    {
     "data": {
      "image/png": "[encoded data removed]",
      "text/plain": [
       "<Figure size 432x288 with 1 Axes>"
      ]
     },
     "metadata": {
      "needs_background": "light"
     },
     "output_type": "display_data"
    }
   ],
   "source": [
    "for i in range(1):\n",
    "    #import pdb; pdb.set_trace()\n",
    "    env_act= {'attack':1, \n",
    "               'jump':0, \n",
    "               'forward':0, \n",
    "               'back':0, \n",
    "               'left':0, \n",
    "               'right':0, \n",
    "               'sprint':0, \n",
    "               'sneak':0, \n",
    "               'camera':[0,  +10],\n",
    "               'equip':0,\n",
    "               'craft':0,\n",
    "             'nearbyCraft':0,\n",
    "             'place':0}\n",
    "    \n",
    "    \n",
    "    next_obs, rew, done, info = env.step(env_act)\n",
    "    \n",
    "    # Prepare for next step and store scores\n",
    "    plt.imshow(env.render(mode='rgb_array'))     \n",
    "    display.display(plt.gcf())\n",
    "    clear_output(wait=True)\n",
    "    obs = next_obs\n",
    "    score += rew\n",
    "    current_score.append(score)\n",
    "    \n",
    "    net_reward += rew\n",
    "    actions.append((env_act, net_reward))\n",
    "    \n",
    "    print('equipped:', obs['equipped_items'])\n",
    "    print('inventory:', obs['inventory'])"
   ]
  },
  {
   "cell_type": "code",
   "execution_count": 15,
   "metadata": {},
   "outputs": [
    {
     "data": {
      "text/plain": [
       "{'mainhand': {'damage': 0, 'maxDamage': 0, 'type': 0}}"
      ]
     },
     "execution_count": 15,
     "metadata": {},
     "output_type": "execute_result"
    }
   ],
   "source": []
  },
  {
   "cell_type": "code",
   "execution_count": null,
   "metadata": {},
   "outputs": [],
   "source": []
  }
 ],
 "metadata": {
  "kernelspec": {
   "display_name": "Python 3",
   "language": "python",
   "name": "python3"
  },
  "language_info": {
   "codemirror_mode": {
    "name": "ipython",
    "version": 3
   },
   "file_extension": ".py",
   "mimetype": "text/x-python",
   "name": "python",
   "nbconvert_exporter": "python",
   "pygments_lexer": "ipython3",
   "version": "3.7.3"
  }
 },
 "nbformat": 4,
 "nbformat_minor": 4
}
